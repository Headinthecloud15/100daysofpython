{
 "cells": [
  {
   "cell_type": "code",
   "execution_count": null,
   "metadata": {},
   "outputs": [],
   "source": [
    "with open(\"output.log\", 'r') as file:\n",
    "    for line in file:\n",
    "        if \"root\" in line:\n",
    "            print(line)"
   ]
  },
  {
   "cell_type": "code",
   "execution_count": 4,
   "metadata": {},
   "outputs": [
    {
     "name": "stdout",
     "output_type": "stream",
     "text": [
      "2022-02-16 18:44:18,220 - root - CRITICAL - this is a critical\n",
      "\n",
      "2022-02-16 18:44:18,220 - root - CRITICAL - this is a critical\n",
      "\n"
     ]
    }
   ],
   "source": [
    "with open(\"output.log\", 'r') as file:\n",
    "    for line in file:\n",
    "        if \"CRITICAL\" in line:\n",
    "            print(line)"
   ]
  },
  {
   "cell_type": "code",
   "execution_count": 6,
   "metadata": {},
   "outputs": [
    {
     "name": "stdout",
     "output_type": "stream",
     "text": [
      "The critical event performed by root users is on :2022-02-16\n",
      "The critical event performed by root users is on :2022-02-16\n"
     ]
    }
   ],
   "source": [
    "with open(\"output.log\", 'r') as file:\n",
    "    for line in file:\n",
    "        if \"root\" in line and \"CRITICAL\" in line:\n",
    "            print(\"The critical event performed by root users is on :\"+line.split()[0]) "
   ]
  }
 ],
 "metadata": {
  "interpreter": {
   "hash": "76444f83ce87ee0a204f8dd7e2e8e661ec6e1966ff1076b74582d378dfec98fb"
  },
  "kernelspec": {
   "display_name": "Python 3.9.10 64-bit (windows store)",
   "language": "python",
   "name": "python3"
  },
  "language_info": {
   "codemirror_mode": {
    "name": "ipython",
    "version": 3
   },
   "file_extension": ".py",
   "mimetype": "text/x-python",
   "name": "python",
   "nbconvert_exporter": "python",
   "pygments_lexer": "ipython3",
   "version": "3.9.10"
  },
  "orig_nbformat": 4
 },
 "nbformat": 4,
 "nbformat_minor": 2
}
